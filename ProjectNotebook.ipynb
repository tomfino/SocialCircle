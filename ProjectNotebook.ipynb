{
 "cells": [
  {
   "cell_type": "markdown",
   "metadata": {},
   "source": [
    "# Social Circle, by Tom Rufino"
   ]
  },
  {
   "cell_type": "markdown",
   "metadata": {},
   "source": [
    "This code works with a Social Circle object, which contains a list of friends for a peron's social circle. It allows them to keep track of who is in their social circle, as well as each person's respective \"friend rating\" (1-5), which evaluates a friend's value/closeness to a person. It also quantifies popularity using a \"friend score\", which takes the amount of friends a person has along with their friend scores to create a total sum of friend ratings.\n",
    "\n",
    "The project contains methods which can add friends to the social circle, as well as ghost friends who fall below a friend rating of 1. Users can initiate hangouts, which adjust friend ratings depending on whether the hangout was fun or not. If a user is bored, they can pick a random friend to hang out with.\n",
    "\n",
    "The Social Circle is a dictionary with names of friends as keys and friend ratings as values."
   ]
  },
  {
   "cell_type": "markdown",
   "metadata": {},
   "source": [
    "## Project Code\n",
    "\n",
    "If it makes sense for your project, you can have code and outputs here in the notebook as well."
   ]
  },
  {
   "cell_type": "code",
   "execution_count": 1,
   "metadata": {},
   "outputs": [],
   "source": [
    "from my_module.classes import SocialCircle\n",
    "from my_module.functions import *"
   ]
  },
  {
   "cell_type": "code",
   "execution_count": 2,
   "metadata": {},
   "outputs": [
    {
     "name": "stdout",
     "output_type": "stream",
     "text": [
      "Welcome to your social circle, Tom!\n",
      "\n",
      "\n",
      "Tom's current list of friends:\n",
      "Daniel (5)\n",
      "Friend Score: 5\n",
      "\n",
      "Cory is now your friend! They seem to have made a great first impression :)\n",
      "Austin is now your friend! They seem to have made a great first impression :)\n",
      "\n",
      "Tom's current list of friends:\n",
      "Daniel (5)\n",
      "Cory (5)\n",
      "Austin (4)\n",
      "Friend Score: 14\n",
      "\n",
      "Sav is now your friend!\n",
      "Mars is now your friend. Looks like they didn't make a good first impression...\n",
      "\n",
      "Tom's current list of friends:\n",
      "Daniel (5)\n",
      "Cory (5)\n",
      "Austin (4)\n",
      "Sav (3)\n",
      "Mars (1)\n",
      "Friend Score: 18\n",
      "\n"
     ]
    }
   ],
   "source": [
    "# First, let's create Tom's social circle.\n",
    "friends = SocialCircle('Tom', {'Daniel': 5})\n",
    "print(friends.friends_list())\n",
    "\n",
    "# Let's add a couple friends.\n",
    "friends.add_friend('Cory', 5)\n",
    "friends.add_friend('Austin', 4)\n",
    "\n",
    "# Print Tom's social circle.\n",
    "print(friends.friends_list())\n",
    "\n",
    "# Look who Tom just met!\n",
    "friends.add_friend('Sav')\n",
    "friends.add_friend('Mars', 1)\n",
    "print(friends.friends_list())"
   ]
  },
  {
   "cell_type": "code",
   "execution_count": 3,
   "metadata": {
    "scrolled": true
   },
   "outputs": [
    {
     "name": "stdout",
     "output_type": "stream",
     "text": [
      "You hang out with:\n",
      "Daniel\n",
      "Cory\n",
      "It wasn't very fun...\n",
      "\n",
      "Tom's current list of friends:\n",
      "Daniel (4)\n",
      "Cory (4)\n",
      "Austin (4)\n",
      "Sav (3)\n",
      "Mars (1)\n",
      "Friend Score: 16\n",
      "\n",
      "You hang out with:\n",
      "Sav\n",
      "Evy\n",
      "It was fun!\n",
      "Evy is now your friend!\n",
      "\n",
      "Tom's current list of friends:\n",
      "Daniel (4)\n",
      "Cory (4)\n",
      "Austin (4)\n",
      "Sav (4)\n",
      "Mars (1)\n",
      "Evy (3)\n",
      "Friend Score: 20\n",
      "\n",
      "You hang out with:\n",
      "Julia\n",
      "It wasn't very fun...\n",
      "Remind yourself not to hang out with Julia again...\n",
      "\n"
     ]
    }
   ],
   "source": [
    "# Now that Tom has a good group of friends, let's hang out! \n",
    "friends.hangout(['Daniel', 'Cory'], fun = False)\n",
    "print(friends.friends_list())\n",
    "\n",
    "# Tom hangs out with Sav and her friend Evy\n",
    "friends.hangout(['Sav', 'Evy'], fun = True)\n",
    "print(friends.friends_list())\n",
    "\n",
    "# Tom hangs out with Julia\n",
    "friends.hangout(['Julia'], fun = False)"
   ]
  },
  {
   "cell_type": "code",
   "execution_count": 4,
   "metadata": {},
   "outputs": [
    {
     "name": "stdout",
     "output_type": "stream",
     "text": [
      "\n",
      "You're bored and decide to hang out with Daniel for today.\n",
      "You hang out with:\n",
      "Daniel\n",
      "It was fun!\n",
      "\n",
      "You're bored and decide to hang out with Mars for today.\n",
      "You hang out with:\n",
      "Mars\n",
      "It wasn't very fun...\n",
      "Mars is no longer your friend.\n",
      "\n",
      "\n",
      "You're bored and decide to hang out with Cory for today.\n",
      "You hang out with:\n",
      "Cory\n",
      "It wasn't very fun...\n",
      "\n",
      "Tom's current list of friends:\n",
      "Daniel (5)\n",
      "Cory (3)\n",
      "Austin (4)\n",
      "Sav (4)\n",
      "Evy (3)\n",
      "Friend Score: 19\n",
      "\n"
     ]
    }
   ],
   "source": [
    "# Tom is bored and hits up one of his friends\n",
    "friends.bored()\n",
    "friends.bored()\n",
    "friends.bored()\n",
    "\n",
    "print(friends.friends_list())"
   ]
  },
  {
   "cell_type": "code",
   "execution_count": 5,
   "metadata": {},
   "outputs": [
    {
     "name": "stdout",
     "output_type": "stream",
     "text": [
      "Welcome to your social circle, Finn!\n",
      "\n"
     ]
    },
    {
     "data": {
      "text/plain": [
       "'Tom is more popular than Finn by 1 friend points!'"
      ]
     },
     "execution_count": 5,
     "metadata": {},
     "output_type": "execute_result"
    }
   ],
   "source": [
    "# Let's compare Tom's popularity with Finn.\n",
    "finn_friends = SocialCircle('Finn', {'Jake' : 5, 'Ice King' : 1, 'BMO' : 5, 'Lemongrab' : 2, \n",
    "                                     'Gunter' : 3, 'Flame Princess' : 2})\n",
    "compare_popularity(friends, finn_friends)"
   ]
  },
  {
   "cell_type": "code",
   "execution_count": 6,
   "metadata": {},
   "outputs": [
    {
     "name": "stdout",
     "output_type": "stream",
     "text": [
      "You hang out with:\n",
      "Princess Bubblegum\n",
      "Marceline\n",
      "It was fun!\n",
      "Princess Bubblegum is now your friend!\n",
      "Marceline is now your friend!\n"
     ]
    },
    {
     "data": {
      "text/plain": [
       "'Finn is more popular than Tom by 5 friend points!'"
      ]
     },
     "execution_count": 6,
     "metadata": {},
     "output_type": "execute_result"
    }
   ],
   "source": [
    "# Finn hangs out with some more friends. Let's see what happens!\n",
    "finn_friends.hangout(['Princess Bubblegum', 'Marceline'])\n",
    "\n",
    "# Let's try this one more time...\n",
    "compare_popularity(friends, finn_friends)"
   ]
  },
  {
   "cell_type": "code",
   "execution_count": 7,
   "metadata": {},
   "outputs": [
    {
     "name": "stdout",
     "output_type": "stream",
     "text": [
      "Welcome to your social circle, Batman!\n",
      "\n",
      "You hang out with:\n",
      "The Joker\n",
      "It wasn't very fun...\n",
      "Remind yourself not to hang out with The Joker again...\n",
      "\n",
      "\n",
      "You have no one to hang out with...\n",
      "\n",
      "Looking pretty lonely...\n",
      "Friend Score: 0\n",
      "\n"
     ]
    }
   ],
   "source": [
    "# Let's see what the Social Circle of a loner looks like...\n",
    "bat_friends = SocialCircle('Batman')\n",
    "bat_friends.hangout(['The Joker'], fun = False)\n",
    "bat_friends.bored()\n",
    "print(bat_friends.friends_list())"
   ]
  },
  {
   "cell_type": "markdown",
   "metadata": {},
   "source": [
    "#### Extra Credit (*optional*)\n",
    "\n",
    "I first tried learning Python entering my freshman year of high school, although I didn't get very far before I gave up on it. It wasn't until I took AP Computer Science A in senior year that I became much more comfortable with coding; the class was really fun and I wanted to try coding in a more relevant language.\n",
    "\n",
    "With my project, I wanted to include methods which interacted with each other (the bored() and hangout() methods, the hangout() and ghost_friend() methods) as I felt it would add more depth than just calling methods to print strings. I could have stopped with creating the SocialCircle class, but I went a step further and added a function (compare_popularity()) which takes two SocialCircle objects and has them interact with each other, which I wasn't fully comfortable doing at first. What particularly challenged me was that most methods updated the self.friend_score instance variable while also printing something, so I spent a lot of time ensuring the get_friend_score() method functioned properly and any changes to self.friends or friend ratings were accurately reflected in that. Overall, I feel I took a fairly basic concept and fleshed it out to a more advanced level."
   ]
  }
 ],
 "metadata": {
  "kernelspec": {
   "display_name": "Python 3 (ipykernel)",
   "language": "python",
   "name": "python3"
  },
  "language_info": {
   "codemirror_mode": {
    "name": "ipython",
    "version": 3
   },
   "file_extension": ".py",
   "mimetype": "text/x-python",
   "name": "python",
   "nbconvert_exporter": "python",
   "pygments_lexer": "ipython3",
   "version": "3.9.5"
  }
 },
 "nbformat": 4,
 "nbformat_minor": 2
}
